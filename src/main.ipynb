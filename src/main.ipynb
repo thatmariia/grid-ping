{
 "cells": [
  {
   "cell_type": "markdown",
   "id": "d35715db",
   "metadata": {},
   "source": [
    "# Running the simulation\n",
    "\n",
    "Required packages:\n",
    "numpy, matplotlib, seaborn, tqdm, sklearn (scikit-learn)"
   ]
  },
  {
   "cell_type": "code",
   "execution_count": 1,
   "id": "8df35633",
   "metadata": {},
   "outputs": [],
   "source": [
    "import os\n",
    "os.chdir(\"../\")"
   ]
  },
  {
   "cell_type": "markdown",
   "id": "b624dc44",
   "metadata": {},
   "source": [
    "Comment out the cell below if the simulation has already been run"
   ]
  },
  {
   "cell_type": "code",
   "execution_count": 2,
   "id": "87bb45ff",
   "metadata": {},
   "outputs": [],
   "source": [
    "# from src.Application import Application\n",
    "# Application().run()"
   ]
  },
  {
   "cell_type": "markdown",
   "id": "944a5811",
   "metadata": {},
   "source": [
    "# Plotting overview"
   ]
  },
  {
   "cell_type": "code",
   "execution_count": 3,
   "id": "ffe2c515",
   "metadata": {},
   "outputs": [],
   "source": [
    "from src.plotter.directory_management import *"
   ]
  },
  {
   "cell_type": "code",
   "execution_count": 4,
   "id": "f01e561b",
   "metadata": {},
   "outputs": [],
   "source": [
    "cd_general_plotting_directory()"
   ]
  },
  {
   "cell_type": "code",
   "execution_count": 5,
   "id": "4372419b",
   "metadata": {},
   "outputs": [
    {
     "data": {
      "text/plain": [
       "'/Users/thatmariia/Desktop/Internships/CCN/PING/REPOS/grid-ping/plots/SIM_PLOTS/overviews'"
      ]
     },
     "execution_count": 5,
     "metadata": {},
     "output_type": "execute_result"
    }
   ],
   "source": [
    "import os\n",
    "os.getcwd()"
   ]
  },
  {
   "cell_type": "code",
   "execution_count": null,
   "id": "0a85216b",
   "metadata": {},
   "outputs": [],
   "source": []
  },
  {
   "cell_type": "code",
   "execution_count": 6,
   "id": "7d252d79",
   "metadata": {},
   "outputs": [],
   "source": [
    "return_to_start_path_from_general()"
   ]
  },
  {
   "cell_type": "markdown",
   "id": "25ce85e6",
   "metadata": {},
   "source": [
    "## Plotting a single simulation"
   ]
  },
  {
   "cell_type": "code",
   "execution_count": 7,
   "id": "d574c7ef",
   "metadata": {},
   "outputs": [],
   "source": [
    "# choose from [1.0, 1.125, 1.25, 1.375, 1.5]\n",
    "distance_scale = 1.0\n",
    "\n",
    "# choose from [0.01, 0.0257, 0.505, 0.7525, 1]\n",
    "contrast_range = 0.01"
   ]
  },
  {
   "cell_type": "code",
   "execution_count": 8,
   "id": "e04bd28f",
   "metadata": {},
   "outputs": [],
   "source": [
    "cd_partic_plotting_directory(distance_scale, contrast_range)"
   ]
  },
  {
   "cell_type": "markdown",
   "id": "62750514",
   "metadata": {},
   "source": [
    "### Full stimulus"
   ]
  },
  {
   "cell_type": "markdown",
   "id": "c37ce077",
   "metadata": {},
   "source": [
    "### Spikes data"
   ]
  },
  {
   "cell_type": "code",
   "execution_count": 9,
   "id": "7d48e83a",
   "metadata": {},
   "outputs": [
    {
     "name": "stderr",
     "output_type": "stream",
     "text": [
      "Computing distances between PING networks: 100%|█| 400/400 [00:07<00:00, 51.04it\n"
     ]
    }
   ],
   "source": [
    "from src.plotter.raw_data import fetch_spikes_data\n",
    "from src.params.ParamsInitializer import ParamsInitializer\n",
    "from src.params.NeuronTypes import NeuronTypes\n",
    "from src.izhikevich_simulation.GridGeometryFactory import GridGeometryFactory\n",
    "from src.izhikevich_simulation.GridGeometry import GridGeometry\n",
    "from src.izhikevich_simulation.PINGNetworkNeurons import PINGNetworkNeurons\n",
    "import numpy as np\n",
    "import pandas as pd\n",
    "import matplotlib.pyplot as plt\n",
    "import sys\n",
    "np.set_printoptions(threshold=sys.maxsize)\n",
    "\n",
    "import matplotlib.pyplot as plt\n",
    "import matplotlib as mpl\n",
    "import scipy\n",
    "PLOT_SIZE = 8\n",
    "\n",
    "mpl.rcParams['lines.linewidth'] = PLOT_SIZE / 2\n",
    "mpl.rcParams['axes.linewidth'] = PLOT_SIZE / 10\n",
    "mpl.rcParams['axes.labelsize'] = 2 * PLOT_SIZE\n",
    "mpl.rcParams['axes.labelpad'] = 2 * PLOT_SIZE\n",
    "mpl.rcParams['axes.titlesize'] = 3 * PLOT_SIZE\n",
    "mpl.rcParams['axes.titlepad'] = PLOT_SIZE#2 * PLOT_SIZE\n",
    "mpl.rcParams['legend.fontsize'] = 3 * PLOT_SIZE\n",
    "mpl.rcParams['font.family'] = 'serif'\n",
    "mpl.rcParams['font.serif'] = 'Avenir'\n",
    "mpl.rcParams['font.weight'] = 'ultralight'\n",
    "\n",
    "# getting parameters\n",
    "params_initializer = ParamsInitializer()\n",
    "params_ping, params_gabor, params_rf, params_connectivity, params_izhi, params_synaptic, params_freqs = params_initializer.initialize(\n",
    "    dist_scale=distance_scale,\n",
    "    contrast_range=contrast_range\n",
    ")\n",
    "\n",
    "ping_networks = GridGeometryFactory().create(params_ping, np.zeros((params_ping.nr_neurons[\"total\"], params_ping.nr_neurons[\"total\"]))).ping_networks\n",
    "def neuron_ids_of_network(ping_network):\n",
    "    return ping_network.ids[NeuronTypes.EX] + ping_network.ids[NeuronTypes.IN]\n",
    "\n",
    "def get_spikes(spikes, ind_start, ind_end):\n",
    "    indices = np.argwhere(\n",
    "        (spikes.T[1] >= ind_start) &\n",
    "        (spikes.T[1] < ind_end)\n",
    "    ).flatten()\n",
    "    return spikes[indices]\n",
    "\n",
    "def get_ex_spikes(spikes):\n",
    "    return get_spikes(spikes, params_ping.neur_slice[NeuronTypes.EX].start, params_ping.neur_slice[NeuronTypes.EX].stop)\n",
    "\n",
    "def get_in_spikes(spikes):\n",
    "    return get_spikes(spikes, params_ping.neur_slice[NeuronTypes.IN].start, params_ping.neur_slice[NeuronTypes.IN].stop)\n",
    "\n",
    "\n",
    "def apply_window(arr, window_start, window_end):\n",
    "    arr_window_indices = np.argwhere(\n",
    "        (arr.T[0] >= window_start) & \n",
    "        (arr.T[0] < window_end) \n",
    "    ).flatten()\n",
    "    return arr[arr_window_indices]\n",
    "\n",
    "    \n",
    "\n",
    "def select_spikes_window(spikes, spikes_ex, spikes_in, window_start, window_end):\n",
    "    spikes = apply_window(spikes, window_start, window_end)\n",
    "    spikes_ex = apply_window(spikes_ex, window_start, window_end)\n",
    "    spikes_in = apply_window(spikes_in, window_start, window_end)\n",
    "    return spikes, spikes_ex, spikes_in"
   ]
  },
  {
   "cell_type": "code",
   "execution_count": 10,
   "id": "830375db",
   "metadata": {},
   "outputs": [
    {
     "data": {
      "text/plain": [
       "'/Users/thatmariia/Desktop/Internships/CCN/PING/REPOS/grid-ping/plots/SIM_PLOTS/dist-1.0000___contrast-0.0100'"
      ]
     },
     "execution_count": 10,
     "metadata": {},
     "output_type": "execute_result"
    }
   ],
   "source": [
    "import os\n",
    "os.getcwd()"
   ]
  },
  {
   "cell_type": "code",
   "execution_count": 11,
   "id": "14544429",
   "metadata": {},
   "outputs": [],
   "source": [
    "os.chdir(\"../../\")"
   ]
  },
  {
   "cell_type": "code",
   "execution_count": 12,
   "id": "6a0f705e",
   "metadata": {},
   "outputs": [],
   "source": [
    "# fetching spikes\n",
    "os.chdir(\"../\")\n",
    "all_spikes = fetch_spikes_data(distance_scale, contrast_range)\n",
    "\n",
    "# indices of excitatory spikes\n",
    "all_spikes_ex = get_ex_spikes(all_spikes)\n",
    "\n",
    "# indices of inhibitory spikes\n",
    "all_spikes_in = get_in_spikes(all_spikes)\n",
    "\n",
    "# fetching spikes per ping\n",
    "ping_spikes = {}\n",
    "ping_spikes_ex = {}\n",
    "ping_spikes_in = {}\n",
    "\n",
    "for ping_network in ping_networks:\n",
    "    \n",
    "    ping_spikes_mask = np.isin(\n",
    "        all_spikes.T[1], neuron_ids_of_network(ping_network)\n",
    "    )\n",
    "    ping_spikes[ping_network.grid_location] = all_spikes[ping_spikes_mask]\n",
    "    ping_spikes_ex[ping_network.grid_location] = get_ex_spikes(ping_spikes[ping_network.grid_location])\n",
    "    ping_spikes_in[ping_network.grid_location] = get_in_spikes(ping_spikes[ping_network.grid_location])"
   ]
  },
  {
   "cell_type": "code",
   "execution_count": null,
   "id": "3d8808f2",
   "metadata": {},
   "outputs": [],
   "source": [
    "def compute_nr_spikes(spikes):\n",
    "    return len(spikes)\n",
    "\n",
    "def compute_mean_nr_spikes_per_ts(spikes, window):\n",
    "    return np.mean([np.count_nonzero(spikes.T[0] == t) for t in range(window[0], window[1])])\n",
    "\n",
    "def compute_std_nr_spikes_per_ts(spikes, window):\n",
    "    return np.std([np.count_nonzero(spikes.T[0] == t) for t in range(window[0], window[1])])\n",
    "\n",
    "def compute_nr_neurons_spiked_count(spikes, step):\n",
    "    id_counter = np.array([np.count_nonzero(spikes.T[1] == i) for i in range(params_ping.nr_neurons[\"total\"])])\n",
    "    return np.array([np.count_nonzero(id_counter == i) for i in range(step)])\n"
   ]
  },
  {
   "cell_type": "code",
   "execution_count": null,
   "id": "4f14b1e7",
   "metadata": {},
   "outputs": [],
   "source": [
    "spikes_stats = []\n",
    "\n",
    "step = 100\n",
    "windows = [(i, i + step) for i in range(0, 1000, step)]\n",
    "\n",
    "\n",
    "def compute_stats(spikes, spikes_ex, spikes_in, window):\n",
    "    nr_spikes = compute_nr_spikes(spikes)\n",
    "    nr_spikes_ex = compute_nr_spikes(spikes_ex)\n",
    "    nr_spikes_in = compute_nr_spikes(spikes_in)\n",
    "    mean_nr_spikes_per_ts = compute_mean_nr_spikes_per_ts(spikes, window)\n",
    "    mean_nr_spikes_ex_per_ts = compute_mean_nr_spikes_per_ts(spikes_ex, window)\n",
    "    mean_nr_spikes_in_per_ts = compute_mean_nr_spikes_per_ts(spikes_in, window)\n",
    "    std_nr_spikes_per_ts = compute_std_nr_spikes_per_ts(spikes, window)\n",
    "    std_nr_spikes_ex_per_ts = compute_std_nr_spikes_per_ts(spikes_ex, window)\n",
    "    std_nr_spikes_in_per_ts = compute_std_nr_spikes_per_ts(spikes_in, window)\n",
    "    nr_neurons_spiked_count = compute_nr_neurons_spiked_count(spikes, step)\n",
    "    nr_neurons_spiked_count_ex = compute_nr_neurons_spiked_count(spikes_ex, step)\n",
    "    nr_neurons_spiked_count_in = compute_nr_neurons_spiked_count(spikes_in, step)\n",
    "    return [\n",
    "        nr_spikes, nr_spikes_ex, nr_spikes_in, \n",
    "        mean_nr_spikes_per_ts, mean_nr_spikes_ex_per_ts, mean_nr_spikes_in_per_ts,\n",
    "        std_nr_spikes_per_ts, std_nr_spikes_ex_per_ts, std_nr_spikes_in_per_ts,\n",
    "        nr_neurons_spiked_count, nr_neurons_spiked_count_ex, nr_neurons_spiked_count_in\n",
    "    ]\n",
    "\n",
    "cols = []\n",
    "for i in range(-1, len(ping_networks)):\n",
    "    imod = \"\" if (i == -1) else i\n",
    "    new_cols = [\n",
    "        f\"nr_spikes{imod}\", \n",
    "        f\"nr_spikes_ex{imod}\", \n",
    "        f\"nr_spikes_in{imod}\", \n",
    "        f\"mean_nr_spikes_per_ts{imod}\",\n",
    "        f\"mean_nr_spikes_ex_per_ts{imod}\",\n",
    "        f\"mean_nr_spikes_in_per_ts{imod}\",\n",
    "        f\"std_nr_spikes_per_ts{imod}\",\n",
    "        f\"std_nr_spikes_ex_per_ts{imod}\",\n",
    "        f\"std_nr_spikes_in_per_ts{imod}\",\n",
    "        f\"nr_neurons_spiked_count{imod}\",\n",
    "        f\"nr_neurons_spiked_count_ex{imod}\",\n",
    "        f\"nr_neurons_spiked_count_in{imod}\"\n",
    "    ]\n",
    "    cols = cols + new_cols\n",
    "\n",
    "for window in windows:\n",
    "    spikes, spikes_ex, spikes_in = select_spikes_window(all_spikes, all_spikes_ex, all_spikes_in, window[0], window[1])\n",
    "    gen_stats = compute_stats(spikes, spikes_ex, spikes_in, window)\n",
    "    \n",
    "    ping_stats = []\n",
    "    for ping_network in ping_networks:\n",
    "        spikes, spikes_ex, spikes_in = select_spikes_window(\n",
    "            ping_spikes[ping_network.grid_location],\n",
    "            ping_spikes_ex[ping_network.grid_location],\n",
    "            ping_spikes_in[ping_network.grid_location],\n",
    "            window[0], window[1]\n",
    "        )\n",
    "        ping_stats = ping_stats + compute_stats(spikes, spikes_ex, spikes_in, window)\n",
    "\n",
    "    spikes_stats.append(gen_stats + ping_stats)\n",
    "\n",
    "spikes_df = pd.DataFrame(\n",
    "    spikes_stats, \n",
    "    columns = cols,\n",
    "    index = windows\n",
    ")\n",
    "spikes_df\n",
    "    "
   ]
  },
  {
   "cell_type": "code",
   "execution_count": null,
   "id": "c43f7cb6",
   "metadata": {},
   "outputs": [],
   "source": [
    "spikes_df.to_csv(\"df.csv\", index=False)"
   ]
  },
  {
   "cell_type": "code",
   "execution_count": null,
   "id": "05dddb3c",
   "metadata": {},
   "outputs": [],
   "source": [
    "fig, ax = plt.subplots(figsize=(4 * PLOT_SIZE, PLOT_SIZE))\n",
    "\n",
    "in_color = \"#ACDDE7\"\n",
    "ex_color = \"#FFA3AF\"\n",
    "\n",
    "ax.scatter(all_spikes_ex.T[0], all_spikes_ex.T[1], s=PLOT_SIZE/5, color=ex_color, label=\"EX\")\n",
    "#ax.scatter(all_spikes_in.T[0], all_spikes_in.T[1], s=PLOT_SIZE/5, color=in_color, label=\"IN\")\n",
    "ax.legend()\n",
    "ax.set_xlabel(\"time ms\")\n",
    "ax.set_ylabel(\"neuron ID\")\n",
    "ax.set_title(\"Spike raster\")\n",
    "#ax.set_ylim(3080, 3200)\n",
    "\n",
    "fig.savefig(\"raster.pdf\", bbox_inches='tight', pad_inches=1)"
   ]
  },
  {
   "cell_type": "code",
   "execution_count": null,
   "id": "43d22d0f",
   "metadata": {},
   "outputs": [],
   "source": [
    "from collections import Counter\n",
    "from statistics import mean\n",
    "\n",
    "counter = Counter(all_spikes.T[1])\n",
    "nr_spikes = counter.values()\n",
    "nr_spikes\n",
    "print(min(nr_spikes), max(nr_spikes), mean(nr_spikes))"
   ]
  },
  {
   "cell_type": "code",
   "execution_count": null,
   "id": "49e5480d",
   "metadata": {},
   "outputs": [],
   "source": [
    "import seaborn as sns\n",
    "\n",
    "mid_windows = [w[0] + (w[1] - w[0]) / 2 for w in windows]\n",
    "\n",
    "fig, ax = plt.subplots(figsize=(1.2*PLOT_SIZE, 1.2*PLOT_SIZE))\n",
    "\n",
    "heatmap = np.array([np.array(a) for a in spikes_df[\"nr_neurons_spiked_count\"].to_numpy()]).T\n",
    "top_nonzero = np.max(np.nonzero(heatmap)[0]) + 1\n",
    "\n",
    "sns.heatmap(\n",
    "    heatmap[:top_nonzero, :],\n",
    "    annot=True,\n",
    "    cbar=False,\n",
    "    square=True,\n",
    "    cmap=\"Blues\",\n",
    "    xticklabels=True,\n",
    "    yticklabels=True,\n",
    "    ax=ax\n",
    ")\n",
    "ax.set_xticklabels(mid_windows)\n",
    "ax.set_xlabel(\"mid window time, ms\")\n",
    "ax.set_ylabel(\"spike count\")\n",
    "ax.set_title(\"Number of neurons spiked\")\n",
    "ax.invert_yaxis()\n",
    "\n",
    "fig.savefig(\"nr_neurons.pdf\", bbox_inches='tight', pad_inches=1)"
   ]
  },
  {
   "cell_type": "code",
   "execution_count": null,
   "id": "b3904d0a",
   "metadata": {},
   "outputs": [],
   "source": [
    "ntypes = 3\n",
    "fig, ax = plt.subplots(nrows=ntypes, ncols=1+len(ping_networks), sharex=True, figsize=((1+len(ping_networks)) * PLOT_SIZE, ntypes * PLOT_SIZE * 0.5))\n",
    "plt.subplots_adjust(top=1.5, right=1.5)\n",
    "\n",
    "in_color = \"#ACDDE7\"\n",
    "ex_color = \"#FFA3AF\"\n",
    "none_color = \"#FCEA88\"\n",
    "\n",
    "\n",
    "mid_windows = [w[0] + (w[1] - w[0]) / 2 for w in windows]\n",
    "int_x = np.linspace(mid_windows[0], mid_windows[-1], num=300, endpoint = True)\n",
    "def int_y(arr):\n",
    "    return scipy.interpolate.make_interp_spline(mid_windows, arr)(int_x)\n",
    "\n",
    "def plot_spikes(axis, spikes, spikes_ex, spikes_in, title=\"\", ytitle=\"\", ping_id=None, ping_location=None):\n",
    "    axis.plot(int_x, int_y(spikes), c=none_color, label=\"both spikes\", zorder=0)\n",
    "    axis.scatter(mid_windows, spikes, s=10*PLOT_SIZE, c=\"black\", zorder=1)\n",
    "    axis.plot(int_x, int_y(spikes_ex), c=ex_color, label=\"spikes EX\", zorder=0)\n",
    "    axis.scatter(mid_windows, spikes_ex, s=10*PLOT_SIZE, c=\"black\", zorder=1)\n",
    "    axis.plot(int_x, int_y(spikes_in), c=in_color, label=\"spikes IN\", zorder=0)\n",
    "    axis.scatter(mid_windows, spikes_in, s=10*PLOT_SIZE, c=\"black\", zorder=1)\n",
    "    axis.legend(loc=\"center right\")\n",
    "    axis.set_xlabel(\"mid window time, ms\")\n",
    "    axis.set_ylabel(ytitle)\n",
    "    if not ping_id and not ping_location:\n",
    "        axis.set_title(title)\n",
    "    else:\n",
    "        axis.set_title(f\"{title}; PING {ping_id} at {ping_location}\")\n",
    "\n",
    "nr_spikes_title = \"Number of spikes\"\n",
    "nr_spikes_ytitle = f\"nr of spikes in a window of {step} ms\"\n",
    "mean_spikes_title = \"Mean number of spikes\"\n",
    "mean_spikes_ytitle = f\"mean nr of spikes per ms in a window of {step} ms\"\n",
    "std_spikes_title = \"STD of number of spikes\"\n",
    "std_spikes_ytitle = f\"std of nr of spikes per ms in a window of {step} ms\"\n",
    "\n",
    "def draw_col_plots(ax_x, ping_id=None, ping_location=None):\n",
    "    \n",
    "    ping_id_str = \"\" if not ping_id else str(ping_id)\n",
    "    plot_spikes(\n",
    "        axis=ax[0][ax_x],\n",
    "        spikes=spikes_df[f\"nr_spikes{ping_id_str}\"],\n",
    "        spikes_ex=spikes_df[f\"nr_spikes_ex{ping_id_str}\"],\n",
    "        spikes_in=spikes_df[f\"nr_spikes_in{ping_id_str}\"],\n",
    "        title=nr_spikes_title,\n",
    "        ytitle=nr_spikes_ytitle,\n",
    "        ping_id=ping_id, \n",
    "        ping_location=ping_location\n",
    "    )\n",
    "\n",
    "    plot_spikes(\n",
    "        axis=ax[1][ax_x],\n",
    "        spikes=spikes_df[f\"mean_nr_spikes_per_ts{ping_id_str}\"],\n",
    "        spikes_ex=spikes_df[f\"mean_nr_spikes_ex_per_ts{ping_id_str}\"],\n",
    "        spikes_in=spikes_df[f\"mean_nr_spikes_in_per_ts{ping_id_str}\"],\n",
    "        title=mean_spikes_title,\n",
    "        ytitle=mean_spikes_ytitle,\n",
    "        ping_id=ping_id, \n",
    "        ping_location=ping_location\n",
    "    )\n",
    "\n",
    "    plot_spikes(\n",
    "        axis=ax[2][ax_x],\n",
    "        spikes=spikes_df[f\"std_nr_spikes_per_ts{ping_id_str}\"],\n",
    "        spikes_ex=spikes_df[f\"std_nr_spikes_ex_per_ts{ping_id_str}\"],\n",
    "        spikes_in=spikes_df[f\"std_nr_spikes_in_per_ts{ping_id_str}\"],\n",
    "        title=std_spikes_title,\n",
    "        ytitle=std_spikes_ytitle,\n",
    "        ping_id=ping_id, \n",
    "        ping_location=ping_location\n",
    "    )\n",
    "    \n",
    "\n",
    "col_count = 0\n",
    "draw_col_plots(col_count)\n",
    "\n",
    "for ping_network in ping_networks:\n",
    "    # TODO:: plot the same stuff for pings\n",
    "    col_count += 1\n",
    "    draw_col_plots(col_count, col_count-1, ping_network.grid_location)\n",
    "    \n",
    "fig.savefig(\"stats_per_ping.pdf\", bbox_inches='tight', pad_inches=1)"
   ]
  },
  {
   "cell_type": "code",
   "execution_count": 13,
   "id": "a1f4215e",
   "metadata": {},
   "outputs": [
    {
     "name": "stdout",
     "output_type": "stream",
     "text": [
      "max_lag = 21\n"
     ]
    },
    {
     "name": "stderr",
     "output_type": "stream",
     "text": [
      "Computing cross-correlation & stuff: 100%|██████| 20/20 [00:00<00:00, 61.78it/s]\n"
     ]
    }
   ],
   "source": [
    "from src.after_simulation_analysis.SyncEvaluationFactory import SyncEvaluationFactory\n",
    "\n",
    "USE_RANDOM_VECTORS = False\n",
    "\n",
    "if USE_RANDOM_VECTORS:\n",
    "\n",
    "    import random \n",
    "    random_vectors = []\n",
    "    p = 1.0/24\n",
    "    for _ in range(1000):\n",
    "        #random_vectors.append([random.randint(0, 1) for _ in range(1000)])\n",
    "        random_vectors.append(np.random.binomial(n=1, p=p, size=1000))\n",
    "        \n",
    "    sync_eval = SyncEvaluationFactory()._compute_cross_correlation(np.array(random_vectors), 1000)\n",
    "else:\n",
    "    sync_eval = SyncEvaluationFactory().create(all_spikes, params_ping, 1000)\n",
    "    \n",
    "#phase_values, phase_locking   "
   ]
  },
  {
   "cell_type": "code",
   "execution_count": 14,
   "id": "0406f32f",
   "metadata": {},
   "outputs": [
    {
     "data": {
      "text/plain": [
       "(20, 20)"
      ]
     },
     "execution_count": 14,
     "metadata": {},
     "output_type": "execute_result"
    }
   ],
   "source": [
    "phase_values = sync_eval.phase_values\n",
    "phase_locking = sync_eval.phase_locking\n",
    "phase_locking.shape"
   ]
  },
  {
   "cell_type": "code",
   "execution_count": 15,
   "id": "6ca3bb0b",
   "metadata": {},
   "outputs": [
    {
     "data": {
      "text/plain": [
       "<AxesSubplot:>"
      ]
     },
     "execution_count": 15,
     "metadata": {},
     "output_type": "execute_result"
    },
    {
     "data": {
      "image/png": "[encoded data removed]",
      "text/plain": [
       "<Figure size 691.2x691.2 with 2 Axes>"
      ]
     },
     "metadata": {
      "needs_background": "light"
     },
     "output_type": "display_data"
    }
   ],
   "source": [
    "fig, ax = plt.subplots(figsize=(1.2*PLOT_SIZE, 1.2*PLOT_SIZE))\n",
    "\n",
    "import seaborn as sns\n",
    "\n",
    "sns.heatmap(\n",
    "    phase_locking,\n",
    "    annot=False,\n",
    "    cbar=True,\n",
    "    square=True,\n",
    "    cmap=\"Blues\",\n",
    "    vmin=0,\n",
    "    vmax=1,\n",
    "    xticklabels=False,\n",
    "    yticklabels=False,\n",
    "    ax=ax\n",
    ")\n",
    "\n",
    "# fig.savefig(\"phase_locking.pdf\", bbox_inches='tight', pad_inches=1)"
   ]
  },
  {
   "cell_type": "code",
   "execution_count": 16,
   "id": "05d9eb49",
   "metadata": {},
   "outputs": [
    {
     "name": "stdout",
     "output_type": "stream",
     "text": [
      "0.7763346620136423 1.0 0.9615884679633048\n",
      "0.9595668083824261\n"
     ]
    }
   ],
   "source": [
    "# print(min(phase_values.flatten()), max(phase_values.flatten()), np.mean(phase_values.flatten()))\n",
    "print(min(phase_locking.flatten()), max(phase_locking.flatten()), np.mean(phase_locking.flatten()))\n",
    "\n",
    "print(\n",
    "    np.mean([phase_locking[i][j] for i in range(phase_locking.shape[0]) for j in range(phase_locking.shape[1]) if i != j])\n",
    ")"
   ]
  },
  {
   "cell_type": "code",
   "execution_count": 17,
   "id": "c27dafb5",
   "metadata": {},
   "outputs": [
    {
     "ename": "TypeError",
     "evalue": "fetch_cortical_dist_data() missing 2 required positional arguments: 'dist_scale' and 'contrast_range'",
     "output_type": "error",
     "traceback": [
      "\u001B[0;31m---------------------------------------------------------------------------\u001B[0m",
      "\u001B[0;31mTypeError\u001B[0m                                 Traceback (most recent call last)",
      "Input \u001B[0;32mIn [17]\u001B[0m, in \u001B[0;36m<cell line: 3>\u001B[0;34m()\u001B[0m\n\u001B[1;32m      1\u001B[0m \u001B[38;5;28;01mfrom\u001B[39;00m \u001B[38;5;21;01msrc\u001B[39;00m\u001B[38;5;21;01m.\u001B[39;00m\u001B[38;5;21;01mplotter\u001B[39;00m\u001B[38;5;21;01m.\u001B[39;00m\u001B[38;5;21;01mraw_data\u001B[39;00m \u001B[38;5;28;01mimport\u001B[39;00m fetch_cortical_dist_data\n\u001B[0;32m----> 3\u001B[0m distances \u001B[38;5;241m=\u001B[39m \u001B[43mfetch_cortical_dist_data\u001B[49m\u001B[43m(\u001B[49m\u001B[43m)\u001B[49m\n\u001B[1;32m      4\u001B[0m distances\n",
      "\u001B[0;31mTypeError\u001B[0m: fetch_cortical_dist_data() missing 2 required positional arguments: 'dist_scale' and 'contrast_range'"
     ]
    }
   ],
   "source": [
    "from src.plotter.raw_data import fetch_cortical_dist_data\n",
    "\n",
    "distances = fetch_cortical_dist_data()\n",
    "distances"
   ]
  },
  {
   "cell_type": "code",
   "execution_count": 18,
   "id": "f10e8bc8",
   "metadata": {},
   "outputs": [
    {
     "ename": "NameError",
     "evalue": "name 'distances' is not defined",
     "output_type": "error",
     "traceback": [
      "\u001B[0;31m---------------------------------------------------------------------------\u001B[0m",
      "\u001B[0;31mNameError\u001B[0m                                 Traceback (most recent call last)",
      "Input \u001B[0;32mIn [18]\u001B[0m, in \u001B[0;36m<cell line: 5>\u001B[0;34m()\u001B[0m\n\u001B[1;32m     10\u001B[0m ping_i \u001B[38;5;241m=\u001B[39m id_i \u001B[38;5;241m/\u001B[39m\u001B[38;5;241m/\u001B[39m params_ping\u001B[38;5;241m.\u001B[39mnr_neurons_per_ping[NeuronTypes\u001B[38;5;241m.\u001B[39mIN]\n\u001B[1;32m     11\u001B[0m ping_j \u001B[38;5;241m=\u001B[39m id_j \u001B[38;5;241m/\u001B[39m\u001B[38;5;241m/\u001B[39m params_ping\u001B[38;5;241m.\u001B[39mnr_neurons_per_ping[NeuronTypes\u001B[38;5;241m.\u001B[39mIN]\n\u001B[0;32m---> 12\u001B[0m dist \u001B[38;5;241m=\u001B[39m \u001B[43mdistances\u001B[49m[ping_i][ping_j]\n\u001B[1;32m     13\u001B[0m \u001B[38;5;28;01mif\u001B[39;00m dist \u001B[38;5;129;01mnot\u001B[39;00m \u001B[38;5;129;01min\u001B[39;00m dist_pl:\n\u001B[1;32m     14\u001B[0m     dist_pl[dist] \u001B[38;5;241m=\u001B[39m []\n",
      "\u001B[0;31mNameError\u001B[0m: name 'distances' is not defined"
     ]
    }
   ],
   "source": [
    "step_size = 10\n",
    "\n",
    "dist_pl = {}\n",
    "\n",
    "for i in range(phase_locking.shape[0]):\n",
    "    for j in range(phase_locking.shape[1]):\n",
    "        pl = phase_locking[i][j]\n",
    "        id_i = step_size * i\n",
    "        id_j = step_size * j\n",
    "        ping_i = id_i // params_ping.nr_neurons_per_ping[NeuronTypes.IN]\n",
    "        ping_j = id_j // params_ping.nr_neurons_per_ping[NeuronTypes.IN]\n",
    "        dist = distances[ping_i][ping_j]\n",
    "        if dist not in dist_pl:\n",
    "            dist_pl[dist] = []\n",
    "        dist_pl[dist].append(pl)\n",
    "\n",
    "x = []\n",
    "y = []\n",
    "\n",
    "for dist in sorted(dist_pl.keys()):\n",
    "    x.append(dist)\n",
    "    y.append(np.mean(dist_pl[dist]))\n",
    "\n",
    "fig, ax = plt.subplots(figsize=(10, 10))  \n",
    "\n",
    "ax.scatter(x, y, s=100, c=in_color)\n",
    "ax.set_xlabel(\"interneuron distance\")\n",
    "ax.set_ylabel(\"average phase-locking\")\n",
    "fig.savefig(\"avg_phase_locking.pdf\", bbox_inches='tight', pad_inches=1)\n"
   ]
  },
  {
   "cell_type": "code",
   "execution_count": null,
   "id": "14b4270d",
   "metadata": {},
   "outputs": [],
   "source": []
  },
  {
   "cell_type": "code",
   "execution_count": null,
   "id": "cca8342b",
   "metadata": {},
   "outputs": [],
   "source": [
    "# return_to_start_path_from_partic()"
   ]
  },
  {
   "cell_type": "code",
   "execution_count": null,
   "id": "4473c732",
   "metadata": {},
   "outputs": [],
   "source": []
  },
  {
   "cell_type": "code",
   "execution_count": null,
   "id": "764b8ddf",
   "metadata": {},
   "outputs": [],
   "source": [
    "\n",
    "\n"
   ]
  },
  {
   "cell_type": "code",
   "execution_count": null,
   "id": "a0d50d50",
   "metadata": {},
   "outputs": [],
   "source": [
    "import pandas as pd\n",
    "import numpy as np\n",
    "import scipy.interpolate\n",
    "from itertools import product\n",
    "\n",
    "indices = [\"1\", \"2\", \"3\", \"4\"]\n",
    "columns = [\"3\", \"4\", \"5\", \"6\"]\n",
    "empty_df = pd.DataFrame(index=indices, columns=columns, dtype=float)\n",
    "\n",
    "for i, c in product(indices, columns):\n",
    "    empty_df.at[i, c] = 1\n",
    "\n",
    "arr = empty_df.to_numpy()\n",
    "\n",
    "interpolation_len = 10\n",
    "\n",
    "contrast_ranges = [float(i) for i in empty_df.columns.tolist()]\n",
    "dist_scales = [float(i) for i in empty_df.index.tolist()]\n",
    "\n",
    "contrast_ranges_interpolated = np.linspace(contrast_ranges[0], contrast_ranges[-1], num=interpolation_len)\n",
    "dist_scales_interpolated = np.linspace(dist_scales[0], dist_scales[-1], num=interpolation_len)\n",
    "\n",
    "interpolation = scipy.interpolate.RectBivariateSpline(contrast_ranges, dist_scales, arr)\n",
    "\n",
    "arr_interpolated = interpolation(contrast_ranges_interpolated, dist_scales_interpolated)\n",
    "arr_interpolated\n",
    "\n",
    "#scipy.interpolate.make_interp_spline(mid_windows, arr)(int_x)\n",
    "\n",
    "# fig, ax = plt.subplots(figsize=(PLOT_SIZE, PLOT_SIZE))\n",
    "# sns.heatmap(\n",
    "#     empty_df,\n",
    "#     annot=True,\n",
    "#     square=True,\n",
    "#     ax=ax\n",
    "# )"
   ]
  },
  {
   "cell_type": "code",
   "execution_count": null,
   "id": "1fd14b04",
   "metadata": {},
   "outputs": [],
   "source": [
    "simulation_time = 1000\n",
    "\n",
    "def get_type_raster(spikes_type, params_ping, neur_type, simulation_time):\n",
    "\n",
    "    raster = np.zeros((params_ping.nr_neurons[neur_type], simulation_time))\n",
    "\n",
    "    for neur_id in range(params_ping.neur_slice[neur_type].start, params_ping.neur_slice[neur_type].stop):\n",
    "        # find indices of spikes of a neuron with id neur_id\n",
    "        spikes_indices = np.argwhere(\n",
    "            (spikes_type.T[1] == neur_id)\n",
    "        ).flatten()\n",
    "        # assign 1 to the indices of the raster\n",
    "        raster[neur_id - params_ping.neur_slice[neur_type].start, spikes_type.T[0].astype(int)[spikes_indices]] = 1\n",
    "\n",
    "    return raster\n",
    "\n",
    "spikes_T = all_spikes.T\n",
    "\n",
    "# indices when neurons fired\n",
    "spikes_in_indices = np.argwhere(\n",
    "    (spikes_T[1] >= params_ping.neur_slice[NeuronTypes.IN].start) &\n",
    "    (spikes_T[1] < params_ping.neur_slice[NeuronTypes.IN].stop)\n",
    ").flatten()\n",
    "spikes_ex_indices = np.argwhere(\n",
    "    (spikes_T[1] >= params_ping.neur_slice[NeuronTypes.EX].start) &\n",
    "    (spikes_T[1] < params_ping.neur_slice[NeuronTypes.EX].stop)\n",
    ").flatten()\n",
    "# times when neurons fired\n",
    "spikes_in = np.array(list(zip(spikes_T[0][spikes_in_indices], spikes_T[1][spikes_in_indices])))\n",
    "spikes_ex = np.array(list(zip(spikes_T[0][spikes_ex_indices], spikes_T[1][spikes_ex_indices])))\n",
    "\n",
    "raster_ex = get_type_raster(\n",
    "    spikes_type=spikes_ex,\n",
    "    params_ping=params_ping,\n",
    "    neur_type=NeuronTypes.EX,\n",
    "    simulation_time=simulation_time\n",
    ")\n",
    "raster_in = get_type_raster(\n",
    "    spikes_type=spikes_in,\n",
    "    params_ping=params_ping,\n",
    "    neur_type=NeuronTypes.IN,\n",
    "    simulation_time=simulation_time\n",
    ")"
   ]
  },
  {
   "cell_type": "code",
   "execution_count": null,
   "id": "5c8b8627",
   "metadata": {},
   "outputs": [],
   "source": [
    "crop_start = 950\n",
    "crop_end = 999\n",
    "#crop_neur_id = 1\n",
    "for crop_neur_id in range(0, 1000):\n",
    "    crop_raster_ex = raster_ex[crop_neur_id][crop_start:crop_end]\n",
    "    if sum(crop_raster_ex) > 1:\n",
    "        print(sum(crop_raster_ex))\n",
    "        print(crop_neur_id)\n",
    "        print()\n",
    "#print(crop_raster_ex)\n"
   ]
  },
  {
   "cell_type": "code",
   "execution_count": null,
   "id": "54c9afb7",
   "metadata": {},
   "outputs": [],
   "source": [
    "1/80"
   ]
  },
  {
   "cell_type": "code",
   "execution_count": null,
   "id": "f6d7ff85",
   "metadata": {},
   "outputs": [],
   "source": []
  }
 ],
 "metadata": {
  "kernelspec": {
   "display_name": "Python 3 (ipykernel)",
   "language": "python",
   "name": "python3"
  },
  "language_info": {
   "codemirror_mode": {
    "name": "ipython",
    "version": 3
   },
   "file_extension": ".py",
   "mimetype": "text/x-python",
   "name": "python",
   "nbconvert_exporter": "python",
   "pygments_lexer": "ipython3",
   "version": "3.9.12"
  }
 },
 "nbformat": 4,
 "nbformat_minor": 5
}